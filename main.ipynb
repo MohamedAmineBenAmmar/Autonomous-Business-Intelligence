{
 "cells": [
  {
   "cell_type": "code",
   "execution_count": 1,
   "metadata": {},
   "outputs": [
    {
     "name": "stdout",
     "output_type": "stream",
     "text": [
      "Welcome to Atoti 0.8.4!\n",
      "\n",
      "By using this community edition, you agree with the license available at https://docs.atoti.io/latest/eula.html.\n",
      "Browse the official documentation at https://docs.atoti.io.\n",
      "Join the community at https://www.atoti.io/register.\n",
      "\n",
      "Atoti collects telemetry data, which is used to help understand how to improve the product.\n",
      "If you don't wish to send usage data, you can request a trial license at https://www.atoti.io/evaluation-license-request.\n",
      "\n",
      "You can hide this message by setting the `ATOTI_HIDE_EULA_MESSAGE` environment variable to True.\n"
     ]
    },
    {
     "data": {
      "application/json": {
       "Cubes": {},
       "Tables": {}
      },
      "text/html": [
       "<ul>\n",
       "<li>Session\n",
       "  <ul>\n",
       "  <li>Tables\n",
       "    <ul>\n",
       "    </ul>\n",
       "  </li>\n",
       "  <li>Cubes\n",
       "    <ul>\n",
       "    </ul>\n",
       "  </li>\n",
       "  </ul>\n",
       "</li>\n",
       "</ul>\n"
      ],
      "text/plain": [
       "<atoti.session.Session at 0x20717f6a050>"
      ]
     },
     "execution_count": 1,
     "metadata": {
      "application/json": {
       "expanded": false,
       "root": "Session"
      }
     },
     "output_type": "execute_result"
    }
   ],
   "source": [
    "import DWH\n",
    "import atoti as tt\n",
    "\n",
    "dbes_cube = DWH.OLAP.DBES_Cube()\n",
    "dbes_cube.session"
   ]
  },
  {
   "cell_type": "code",
   "execution_count": 2,
   "metadata": {},
   "outputs": [
    {
     "data": {
      "text/html": [
       "<div>\n",
       "<style scoped>\n",
       "    .dataframe tbody tr th:only-of-type {\n",
       "        vertical-align: middle;\n",
       "    }\n",
       "\n",
       "    .dataframe tbody tr th {\n",
       "        vertical-align: top;\n",
       "    }\n",
       "\n",
       "    .dataframe thead th {\n",
       "        text-align: right;\n",
       "    }\n",
       "</style>\n",
       "<table border=\"1\" class=\"dataframe\">\n",
       "  <thead>\n",
       "    <tr style=\"text-align: right;\">\n",
       "      <th></th>\n",
       "      <th>project_name</th>\n",
       "      <th>project_type</th>\n",
       "      <th>facts</th>\n",
       "      <th>rules</th>\n",
       "    </tr>\n",
       "    <tr>\n",
       "      <th>project_id</th>\n",
       "      <th></th>\n",
       "      <th></th>\n",
       "      <th></th>\n",
       "      <th></th>\n",
       "    </tr>\n",
       "  </thead>\n",
       "  <tbody>\n",
       "    <tr>\n",
       "      <th>1</th>\n",
       "      <td>Kyanite</td>\n",
       "      <td>A</td>\n",
       "      <td>[{\"key1\": \"value1\"}]</td>\n",
       "      <td>[{\"key2\": \"value2\"}]</td>\n",
       "    </tr>\n",
       "    <tr>\n",
       "      <th>2</th>\n",
       "      <td>Garnet</td>\n",
       "      <td>B</td>\n",
       "      <td>[{\"key3\": \"value3\"}]</td>\n",
       "      <td>[{\"key4\": \"value4\"}]</td>\n",
       "    </tr>\n",
       "  </tbody>\n",
       "</table>\n",
       "</div>"
      ],
      "text/plain": [
       "           project_name project_type                 facts  \\\n",
       "project_id                                                   \n",
       "1               Kyanite            A  [{\"key1\": \"value1\"}]   \n",
       "2                Garnet            B  [{\"key3\": \"value3\"}]   \n",
       "\n",
       "                           rules  \n",
       "project_id                        \n",
       "1           [{\"key2\": \"value2\"}]  \n",
       "2           [{\"key4\": \"value4\"}]  "
      ]
     },
     "execution_count": 2,
     "metadata": {},
     "output_type": "execute_result"
    }
   ],
   "source": [
    "dbes_cube.get_DBES_table()\n",
    "dbes_cube.table.head()"
   ]
  },
  {
   "cell_type": "code",
   "execution_count": 3,
   "metadata": {},
   "outputs": [
    {
     "data": {
      "application/json": {
       "DBES": {
        "Facts": [
         "facts"
        ],
        "Project": [
         "project_name",
         "project_type",
         "project_id"
        ],
        "Rules": [
         "rules"
        ]
       }
      },
      "text/html": [
       "<ul>\n",
       "<li>Dimensions\n",
       "  <ul>\n",
       "  <li>DBES\n",
       "    <ul>\n",
       "    <li>Facts\n",
       "      <ol>\n",
       "      <li>facts</li>\n",
       "      </ol>    </li>\n",
       "    <li>Project\n",
       "      <ol>\n",
       "      <li>project_name</li>\n",
       "      <li>project_type</li>\n",
       "      <li>project_id</li>\n",
       "      </ol>    </li>\n",
       "    <li>Rules\n",
       "      <ol>\n",
       "      <li>rules</li>\n",
       "      </ol>    </li>\n",
       "    </ul>\n",
       "  </li>\n",
       "  </ul>\n",
       "</li>\n",
       "</ul>\n"
      ],
      "text/plain": [
       "{('DBES', 'Rules'): <atoti.hierarchy.Hierarchy object at 0x0000020731C50210>, ('DBES', 'Project'): <atoti.hierarchy.Hierarchy object at 0x0000020731C641D0>, ('DBES', 'Facts'): <atoti.hierarchy.Hierarchy object at 0x0000020731C64A90>}"
      ]
     },
     "execution_count": 3,
     "metadata": {
      "application/json": {
       "expanded": true,
       "root": "Dimensions"
      }
     },
     "output_type": "execute_result"
    }
   ],
   "source": [
    "dbes_cube.create_cube()\n",
    "dbes_cube.cube.hierarchies"
   ]
  },
  {
   "cell_type": "code",
   "execution_count": 4,
   "metadata": {},
   "outputs": [
    {
     "data": {
      "application/json": {
       "DBES": {
        "Facts": [
         "facts"
        ],
        "Project": [
         "project_name",
         "project_type",
         "project_id"
        ],
        "Rules": [
         "rules"
        ]
       }
      },
      "text/html": [
       "<ul>\n",
       "<li>Dimensions\n",
       "  <ul>\n",
       "  <li>DBES\n",
       "    <ul>\n",
       "    <li>Facts\n",
       "      <ol>\n",
       "      <li>facts</li>\n",
       "      </ol>    </li>\n",
       "    <li>Project\n",
       "      <ol>\n",
       "      <li>project_name</li>\n",
       "      <li>project_type</li>\n",
       "      <li>project_id</li>\n",
       "      </ol>    </li>\n",
       "    <li>Rules\n",
       "      <ol>\n",
       "      <li>rules</li>\n",
       "      </ol>    </li>\n",
       "    </ul>\n",
       "  </li>\n",
       "  </ul>\n",
       "</li>\n",
       "</ul>\n"
      ],
      "text/plain": [
       "{('DBES', 'Rules'): <atoti.hierarchy.Hierarchy object at 0x0000020731C65C50>, ('DBES', 'Project'): <atoti.hierarchy.Hierarchy object at 0x0000020731C3F5D0>, ('DBES', 'Facts'): <atoti.hierarchy.Hierarchy object at 0x0000020731C3F1D0>}"
      ]
     },
     "execution_count": 4,
     "metadata": {
      "application/json": {
       "expanded": true,
       "root": "Dimensions"
      }
     },
     "output_type": "execute_result"
    }
   ],
   "source": [
    "h = dbes_cube.cube.hierarchies\n",
    "h"
   ]
  },
  {
   "cell_type": "code",
   "execution_count": 5,
   "metadata": {},
   "outputs": [
    {
     "data": {
      "application/json": {
       "facts (DBES/Facts/facts)": {
        "dimension": "DBES",
        "hierarchy": "Facts",
        "order": "NaturalOrder",
        "type": "String"
       },
       "project_id (DBES/Project/project_id)": {
        "dimension": "DBES",
        "hierarchy": "Project",
        "order": "NaturalOrder",
        "type": "long"
       },
       "project_name (DBES/Project/project_name)": {
        "dimension": "DBES",
        "hierarchy": "Project",
        "order": "NaturalOrder",
        "type": "String"
       },
       "project_type (DBES/Project/project_type)": {
        "dimension": "DBES",
        "hierarchy": "Project",
        "order": "NaturalOrder",
        "type": "String"
       },
       "rules (DBES/Rules/rules)": {
        "dimension": "DBES",
        "hierarchy": "Rules",
        "order": "NaturalOrder",
        "type": "String"
       }
      },
      "text/html": [
       "<ul>\n",
       "<li>Levels\n",
       "  <ul>\n",
       "  <li>facts (DBES/Facts/facts)\n",
       "    <ul>\n",
       "    <li>dimension: DBES</li>\n",
       "    <li>hierarchy: Facts</li>\n",
       "    <li>type: String</li>\n",
       "    <li>order: NaturalOrder</li>\n",
       "    </ul>\n",
       "  </li>\n",
       "  <li>project_id (DBES/Project/project_id)\n",
       "    <ul>\n",
       "    <li>dimension: DBES</li>\n",
       "    <li>hierarchy: Project</li>\n",
       "    <li>type: long</li>\n",
       "    <li>order: NaturalOrder</li>\n",
       "    </ul>\n",
       "  </li>\n",
       "  <li>project_name (DBES/Project/project_name)\n",
       "    <ul>\n",
       "    <li>dimension: DBES</li>\n",
       "    <li>hierarchy: Project</li>\n",
       "    <li>type: String</li>\n",
       "    <li>order: NaturalOrder</li>\n",
       "    </ul>\n",
       "  </li>\n",
       "  <li>project_type (DBES/Project/project_type)\n",
       "    <ul>\n",
       "    <li>dimension: DBES</li>\n",
       "    <li>hierarchy: Project</li>\n",
       "    <li>type: String</li>\n",
       "    <li>order: NaturalOrder</li>\n",
       "    </ul>\n",
       "  </li>\n",
       "  <li>rules (DBES/Rules/rules)\n",
       "    <ul>\n",
       "    <li>dimension: DBES</li>\n",
       "    <li>hierarchy: Rules</li>\n",
       "    <li>type: String</li>\n",
       "    <li>order: NaturalOrder</li>\n",
       "    </ul>\n",
       "  </li>\n",
       "  </ul>\n",
       "</li>\n",
       "</ul>\n"
      ],
      "text/plain": [
       "<atoti.levels.Levels at 0x2072ef98650>"
      ]
     },
     "execution_count": 5,
     "metadata": {
      "application/json": {
       "expanded": true,
       "root": "Levels"
      }
     },
     "output_type": "execute_result"
    }
   ],
   "source": [
    "l = dbes_cube.cube.levels\n",
    "l"
   ]
  },
  {
   "cell_type": "code",
   "execution_count": 6,
   "metadata": {},
   "outputs": [
    {
     "data": {
      "application/json": {
       "contributors.COUNT": {
        "formatter": "INT[#,###]"
       }
      },
      "text/html": [
       "<ul>\n",
       "<li>Measures\n",
       "  <ul>\n",
       "  <li>contributors.COUNT\n",
       "    <ul>\n",
       "    <li>formatter: INT[#,###]</li>\n",
       "    </ul>\n",
       "  </li>\n",
       "  </ul>\n",
       "</li>\n",
       "</ul>\n"
      ],
      "text/plain": [
       "{'contributors.COUNT': <atoti.measure.Measure object at 0x0000020731C6D310>, 'update.TIMESTAMP': <atoti.measure.Measure object at 0x0000020731C6FD50>}"
      ]
     },
     "execution_count": 6,
     "metadata": {
      "application/json": {
       "expanded": false,
       "root": "Measures"
      }
     },
     "output_type": "execute_result"
    }
   ],
   "source": [
    "m = dbes_cube.cube.measures\n",
    "m\n"
   ]
  },
  {
   "cell_type": "code",
   "execution_count": 7,
   "metadata": {},
   "outputs": [
    {
     "data": {
      "text/plain": [
       "'[{\"key2\": \"value2\"}]'"
      ]
     },
     "execution_count": 7,
     "metadata": {},
     "output_type": "execute_result"
    }
   ],
   "source": [
    "query_df = dbes_cube.cube.query(\n",
    "    m[\"contributors.COUNT\"],\n",
    "    levels=[l[\"rules\"], l[\"project_id\"]],\n",
    "    mode=\"pretty\",\n",
    "    filter=h[\"Project\"].isin(\n",
    "      (\"Kyanite\", \"A\", \"1\")\n",
    "    ),\n",
    ")\n",
    "\n",
    "d = query_df.to_dict()\n",
    "keys, values = zip(*d[\"contributors.COUNT\"].items())\n",
    "rules = keys[0][0]\n",
    "rules"
   ]
  },
  {
   "cell_type": "code",
   "execution_count": 8,
   "metadata": {},
   "outputs": [
    {
     "data": {
      "text/plain": [
       "'[{\"key1\": \"value1\"}]'"
      ]
     },
     "execution_count": 8,
     "metadata": {},
     "output_type": "execute_result"
    }
   ],
   "source": [
    "query_df = dbes_cube.cube.query(\n",
    "    m[\"contributors.COUNT\"],\n",
    "    levels=[l[\"facts\"], l[\"project_id\"]],\n",
    "    mode=\"pretty\",\n",
    "    filter=h[\"Project\"].isin(\n",
    "      (\"Kyanite\", \"A\", \"1\")\n",
    "    ),\n",
    ")\n",
    "\n",
    "d = query_df.to_dict()\n",
    "keys, values = zip(*d[\"contributors.COUNT\"].items())\n",
    "facts = keys[0][0]\n",
    "facts"
   ]
  }
 ],
 "metadata": {
  "kernelspec": {
   "display_name": "venv",
   "language": "python",
   "name": "python3"
  },
  "language_info": {
   "codemirror_mode": {
    "name": "ipython",
    "version": 3
   },
   "file_extension": ".py",
   "mimetype": "text/x-python",
   "name": "python",
   "nbconvert_exporter": "python",
   "pygments_lexer": "ipython3",
   "version": "3.11.3"
  },
  "orig_nbformat": 4
 },
 "nbformat": 4,
 "nbformat_minor": 2
}
