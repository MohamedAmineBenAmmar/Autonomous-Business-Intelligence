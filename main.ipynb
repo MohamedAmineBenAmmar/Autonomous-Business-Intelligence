{
 "cells": [
  {
   "cell_type": "code",
   "execution_count": 1,
   "metadata": {},
   "outputs": [
    {
     "name": "stdout",
     "output_type": "stream",
     "text": [
      "Welcome to Atoti 0.8.4!\n",
      "\n",
      "By using this community edition, you agree with the license available at https://docs.atoti.io/latest/eula.html.\n",
      "Browse the official documentation at https://docs.atoti.io.\n",
      "Join the community at https://www.atoti.io/register.\n",
      "\n",
      "Atoti collects telemetry data, which is used to help understand how to improve the product.\n",
      "If you don't wish to send usage data, you can request a trial license at https://www.atoti.io/evaluation-license-request.\n",
      "\n",
      "You can hide this message by setting the `ATOTI_HIDE_EULA_MESSAGE` environment variable to True.\n"
     ]
    },
    {
     "data": {
      "application/json": {
       "Cubes": {},
       "Tables": {}
      },
      "text/html": [
       "<ul>\n",
       "<li>Session\n",
       "  <ul>\n",
       "  <li>Tables\n",
       "    <ul>\n",
       "    </ul>\n",
       "  </li>\n",
       "  <li>Cubes\n",
       "    <ul>\n",
       "    </ul>\n",
       "  </li>\n",
       "  </ul>\n",
       "</li>\n",
       "</ul>\n"
      ],
      "text/plain": [
       "<atoti.session.Session at 0x2c5656c9b90>"
      ]
     },
     "execution_count": 1,
     "metadata": {
      "application/json": {
       "expanded": false,
       "root": "Session"
      }
     },
     "output_type": "execute_result"
    }
   ],
   "source": [
    "import DWH\n",
    "\n",
    "dbes_cube = DWH.OLAP.DBES_Cube()\n",
    "dbes_cube.session"
   ]
  },
  {
   "cell_type": "code",
   "execution_count": 2,
   "metadata": {},
   "outputs": [
    {
     "data": {
      "text/html": [
       "<div>\n",
       "<style scoped>\n",
       "    .dataframe tbody tr th:only-of-type {\n",
       "        vertical-align: middle;\n",
       "    }\n",
       "\n",
       "    .dataframe tbody tr th {\n",
       "        vertical-align: top;\n",
       "    }\n",
       "\n",
       "    .dataframe thead th {\n",
       "        text-align: right;\n",
       "    }\n",
       "</style>\n",
       "<table border=\"1\" class=\"dataframe\">\n",
       "  <thead>\n",
       "    <tr style=\"text-align: right;\">\n",
       "      <th></th>\n",
       "      <th>project_name</th>\n",
       "      <th>project_type</th>\n",
       "      <th>facts</th>\n",
       "      <th>rules</th>\n",
       "    </tr>\n",
       "    <tr>\n",
       "      <th>id</th>\n",
       "      <th></th>\n",
       "      <th></th>\n",
       "      <th></th>\n",
       "      <th></th>\n",
       "    </tr>\n",
       "  </thead>\n",
       "  <tbody>\n",
       "    <tr>\n",
       "      <th>1</th>\n",
       "      <td>Kyanite</td>\n",
       "      <td>A</td>\n",
       "      <td>test1,test2</td>\n",
       "      <td>test11,test22</td>\n",
       "    </tr>\n",
       "    <tr>\n",
       "      <th>2</th>\n",
       "      <td>Garnet</td>\n",
       "      <td>B</td>\n",
       "      <td>test3,test4</td>\n",
       "      <td>test111,test222</td>\n",
       "    </tr>\n",
       "  </tbody>\n",
       "</table>\n",
       "</div>"
      ],
      "text/plain": [
       "   project_name project_type        facts            rules\n",
       "id                                                        \n",
       "1       Kyanite            A  test1,test2    test11,test22\n",
       "2        Garnet            B  test3,test4  test111,test222"
      ]
     },
     "execution_count": 2,
     "metadata": {},
     "output_type": "execute_result"
    }
   ],
   "source": [
    "dbes_cube.get_DBES_table()\n",
    "dbes_cube.table.head()"
   ]
  },
  {
   "cell_type": "code",
   "execution_count": 3,
   "metadata": {},
   "outputs": [
    {
     "data": {
      "application/json": {
       "DBES": {
        "Facts": [
         "facts"
        ],
        "Project": [
         "project_name",
         "project_type",
         "id"
        ],
        "Rules": [
         "rules"
        ]
       }
      },
      "text/html": [
       "<ul>\n",
       "<li>Dimensions\n",
       "  <ul>\n",
       "  <li>DBES\n",
       "    <ul>\n",
       "    <li>Facts\n",
       "      <ol>\n",
       "      <li>facts</li>\n",
       "      </ol>    </li>\n",
       "    <li>Project\n",
       "      <ol>\n",
       "      <li>project_name</li>\n",
       "      <li>project_type</li>\n",
       "      <li>id</li>\n",
       "      </ol>    </li>\n",
       "    <li>Rules\n",
       "      <ol>\n",
       "      <li>rules</li>\n",
       "      </ol>    </li>\n",
       "    </ul>\n",
       "  </li>\n",
       "  </ul>\n",
       "</li>\n",
       "</ul>\n"
      ],
      "text/plain": [
       "{('DBES', 'Rules'): <atoti.hierarchy.Hierarchy object at 0x000002C5682700D0>, ('DBES', 'Project'): <atoti.hierarchy.Hierarchy object at 0x000002C5682848D0>, ('DBES', 'Facts'): <atoti.hierarchy.Hierarchy object at 0x000002C568284110>}"
      ]
     },
     "execution_count": 3,
     "metadata": {
      "application/json": {
       "expanded": true,
       "root": "Dimensions"
      }
     },
     "output_type": "execute_result"
    }
   ],
   "source": [
    "dbes_cube.create_cube()\n",
    "dbes_cube.cube.hierarchies"
   ]
  },
  {
   "cell_type": "code",
   "execution_count": 4,
   "metadata": {},
   "outputs": [
    {
     "data": {
      "application/vnd.atoti.link.v0+json": {
       "path": "",
       "sessionLocation": {
        "https": false,
        "port": 61810
       }
      },
      "text/markdown": [
       "http://localhost:61810\n",
       "\n",
       "_Note_: This is the session's local URL: it may not be reachable if Atoti is running on another machine."
      ],
      "text/plain": [
       "http://localhost:61810 (This is the session's local URL: it may not be reachable if Atoti is running on another machine.)"
      ]
     },
     "execution_count": 4,
     "metadata": {},
     "output_type": "execute_result"
    }
   ],
   "source": [
    "dbes_cube.session.link()\n"
   ]
  }
 ],
 "metadata": {
  "kernelspec": {
   "display_name": "venv",
   "language": "python",
   "name": "python3"
  },
  "language_info": {
   "codemirror_mode": {
    "name": "ipython",
    "version": 3
   },
   "file_extension": ".py",
   "mimetype": "text/x-python",
   "name": "python",
   "nbconvert_exporter": "python",
   "pygments_lexer": "ipython3",
   "version": "3.11.3"
  },
  "orig_nbformat": 4
 },
 "nbformat": 4,
 "nbformat_minor": 2
}
